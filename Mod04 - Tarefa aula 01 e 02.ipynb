{
 "cells": [
  {
   "cell_type": "markdown",
   "metadata": {},
   "source": [
    "# Tarefa 01\n",
    "\n",
    "- Leia os enunciados com atenção\n",
    "- Saiba que pode haver mais de uma resposta correta\n",
    "- Insira novas células de código sempre que achar necessário\n",
    "- Em caso de dúvidas, procure os tutores\n",
    "- Divirta-se :)\n",
    "\n",
    "#### 1)  crie uma série do pandas a partir de uma lista com os dados abaixo:\n",
    "\n",
    "Em um estudo sobre alteração na tempreatura global, A NASA disponibiliza dados de diferenças de de temperatura média da superfície terrestre relativos às médias de temperatura entre 1951 e 1980. Os dados originais podem ser vistos no site da NASA/GISS, e estão dispostos a cada década na tabela abaixo.\n",
    "\n",
    "|ano|anomalia termica|\n",
    "|:-:|:----:|\n",
    "| 1900 | -0.08 |\n",
    "| 1920 | -0.27 |\n",
    "| 1940 | 0.12 |\n",
    "| 1960 | -0.03 |\n",
    "| 1980 | 0.26 |\n",
    "| 2000 | 0.40 |\n",
    "| 2020 | 1.02 |\n",
    "\n",
    "Crie uma séries do Pandas a partir de uma lista com esses dados."
   ]
  },
  {
   "cell_type": "code",
   "execution_count": 1,
   "metadata": {},
   "outputs": [
    {
     "data": {
      "text/plain": [
       "0   -0.08\n",
       "1   -0.27\n",
       "2    0.12\n",
       "3   -0.03\n",
       "4    0.26\n",
       "5    0.40\n",
       "6    1.02\n",
       "dtype: float64"
      ]
     },
     "execution_count": 1,
     "metadata": {},
     "output_type": "execute_result"
    }
   ],
   "source": [
    "import pandas as pd\n",
    "import numpy as np\n",
    "\n",
    "# Seu código aqui\n",
    "anomalia_termica = [-0.08,-0.27,0.12,-0.03,0.26,0.40,1.02]\n",
    "Dados_termicos = pd.Series(anomalia_termica)\n",
    "Dados_termicos "
   ]
  },
  {
   "cell_type": "markdown",
   "metadata": {},
   "source": [
    "#### 2) Coloque os anos nos índices conforme a tabela."
   ]
  },
  {
   "cell_type": "code",
   "execution_count": 14,
   "metadata": {},
   "outputs": [
    {
     "data": {
      "text/plain": [
       "0    1900\n",
       "1    1920\n",
       "2    1940\n",
       "3    1960\n",
       "4    1980\n",
       "5    2000\n",
       "6    2020\n",
       "dtype: int64"
      ]
     },
     "execution_count": 14,
     "metadata": {},
     "output_type": "execute_result"
    }
   ],
   "source": [
    "\n",
    "# seu código aqui\n",
    "dados = [1900,1920,1940,1960,1980,2000,2020]\n",
    "Anos_termicos = pd.Series(dados)\n",
    "Anos_termicos\n",
    "\n"
   ]
  },
  {
   "cell_type": "markdown",
   "metadata": {},
   "source": [
    "#### 3) A partir do dicionário abaixo, crie uma séries do Pandas:"
   ]
  },
  {
   "cell_type": "code",
   "execution_count": 3,
   "metadata": {},
   "outputs": [
    {
     "data": {
      "text/plain": [
       "1900   -0.08\n",
       "1920   -0.27\n",
       "1940    0.12\n",
       "1960   -0.03\n",
       "1980    0.26\n",
       "2000    0.40\n",
       "2020    1.02\n",
       "dtype: float64"
      ]
     },
     "execution_count": 3,
     "metadata": {},
     "output_type": "execute_result"
    }
   ],
   "source": [
    "dic_temperaturas = {1900: -.08, 1920: -.27, 1940: .12, 1960: -.03, 1980: .26, 2000: .40, 2020: 1.02}\n",
    "\n",
    "# seu código aqui\n",
    "serie_temperaturas = pd.Series(dic_temperaturas)\n",
    "serie_temperaturas\n",
    "\n"
   ]
  },
  {
   "cell_type": "markdown",
   "metadata": {},
   "source": [
    "#### 4) Transforme o ndarray abaixo em um dataframe. \n",
    "O numpy é capaz de gerar arrays n-dimensionais com números pseudo-aleatórios de acordo com uma variedade de distribuições, como no exemplo abaixo. Transforme esse nd-array em um DataFrame."
   ]
  },
  {
   "cell_type": "code",
   "execution_count": 9,
   "metadata": {},
   "outputs": [
    {
     "name": "stdout",
     "output_type": "stream",
     "text": [
      "       Coluna1     Coluna2     Coluna3\n",
      "0   108.823276   88.073594  101.561388\n",
      "1   102.567013   97.750139   90.248237\n",
      "2   103.625128  106.477012  100.653570\n",
      "3    93.397832  124.390585   99.909753\n",
      "4   100.315902   88.595430   83.586722\n",
      "5   105.293277   96.298413   90.446954\n",
      "6   128.728981   91.513656  100.590479\n",
      "7    77.146121  112.260252  105.098873\n",
      "8    99.356078   94.370314   92.141817\n",
      "9   109.560314  110.863783   94.448817\n",
      "10  100.168005  107.012129   99.581457\n",
      "11   91.824919  104.089771   91.997382\n",
      "12  100.640285  109.721896  107.438552\n",
      "13  104.202813  101.297608   95.598136\n",
      "14   97.706448  103.204793   81.757490\n",
      "15   90.299470   91.815262  100.589074\n",
      "16   92.623765  101.006012  105.671223\n",
      "17  101.135859   94.808656   90.982377\n",
      "18   99.615823   88.270316   98.592899\n",
      "19   94.008101  102.727863  105.207311\n"
     ]
    }
   ],
   "source": [
    "import numpy as np\n",
    "import pandas as pd\n",
    "arr = np.random.normal(100, 10, (20,3))\n",
    "\n",
    "#seu codigo aqui\n",
    "df = pd.DataFrame(arr, columns=['Coluna1', 'Coluna2', 'Coluna3'])\n",
    "print(df)"
   ]
  },
  {
   "cell_type": "markdown",
   "metadata": {},
   "source": [
    "#### 5) Nomeie os índices das linhas com inteiros de 1 a 20, e as colunas com os nomes \"x1\", \"x2\", e \"x3\" respectivamente."
   ]
  },
  {
   "cell_type": "code",
   "execution_count": 13,
   "metadata": {},
   "outputs": [
    {
     "name": "stdout",
     "output_type": "stream",
     "text": [
      "            x1          x2          x3\n",
      "1   108.823276   88.073594  101.561388\n",
      "2   102.567013   97.750139   90.248237\n",
      "3   103.625128  106.477012  100.653570\n",
      "4    93.397832  124.390585   99.909753\n",
      "5   100.315902   88.595430   83.586722\n",
      "6   105.293277   96.298413   90.446954\n",
      "7   128.728981   91.513656  100.590479\n",
      "8    77.146121  112.260252  105.098873\n",
      "9    99.356078   94.370314   92.141817\n",
      "10  109.560314  110.863783   94.448817\n",
      "11  100.168005  107.012129   99.581457\n",
      "12   91.824919  104.089771   91.997382\n",
      "13  100.640285  109.721896  107.438552\n",
      "14  104.202813  101.297608   95.598136\n",
      "15   97.706448  103.204793   81.757490\n",
      "16   90.299470   91.815262  100.589074\n",
      "17   92.623765  101.006012  105.671223\n",
      "18  101.135859   94.808656   90.982377\n",
      "19   99.615823   88.270316   98.592899\n",
      "20   94.008101  102.727863  105.207311\n"
     ]
    }
   ],
   "source": [
    "#seu código aqui\n",
    "df = pd.DataFrame(arr, index=range(1, 21), columns=['x1', 'x2', 'x3'])\n",
    "print(df)"
   ]
  },
  {
   "cell_type": "markdown",
   "metadata": {},
   "source": [
    "#### 6) No DataFrame do exercício 5, crie uma nova coluna como sendo a média das três colunas, e dê a ela o nome de \"media\" (não recomendo colocar acentos em nomes de variáveis)."
   ]
  },
  {
   "cell_type": "code",
   "execution_count": 17,
   "metadata": {},
   "outputs": [
    {
     "name": "stdout",
     "output_type": "stream",
     "text": [
      "            x1          x2          x3     media\n",
      "1   108.823276   88.073594  101.561388  0.012166\n",
      "2   102.567013   97.750139   90.248237  0.011627\n",
      "3   103.625128  106.477012  100.653570  0.009669\n",
      "4    93.397832  124.390585   99.909753  0.007515\n",
      "5   100.315902   88.595430   83.586722  0.013546\n",
      "6   105.293277   96.298413   90.446954  0.012089\n",
      "7   128.728981   91.513656  100.590479  0.013984\n",
      "8    77.146121  112.260252  105.098873  0.006539\n",
      "9    99.356078   94.370314   92.141817  0.011426\n",
      "10  109.560314  110.863783   94.448817  0.010463\n",
      "11  100.168005  107.012129   99.581457  0.009400\n",
      "12   91.824919  104.089771   91.997382  0.009589\n",
      "13  100.640285  109.721896  107.438552  0.008537\n",
      "14  104.202813  101.297608   95.598136  0.010760\n",
      "15   97.706448  103.204793   81.757490  0.011580\n",
      "16   90.299470   91.815262  100.589074  0.009777\n",
      "17   92.623765  101.006012  105.671223  0.008678\n",
      "18  101.135859   94.808656   90.982377  0.011725\n",
      "19   99.615823   88.270316   98.592899  0.011446\n",
      "20   94.008101  102.727863  105.207311  0.008698\n"
     ]
    }
   ],
   "source": [
    "# seu código aqui\n",
    "df['media'] = df['x1'] / df['x2'] / df['x3']\n",
    "print(df)"
   ]
  },
  {
   "cell_type": "markdown",
   "metadata": {},
   "source": [
    "#### 7) No DataFrame do exercício 6, crie uma nova coluna chamada \"log_med\", contendo o logaritmo natural da média calculada no exercício 6 <br>"
   ]
  },
  {
   "cell_type": "code",
   "execution_count": 23,
   "metadata": {},
   "outputs": [
    {
     "name": "stdout",
     "output_type": "stream",
     "text": [
      "            x1          x2          x3     media   log_med\n",
      "1   108.823276   88.073594  101.561388  0.012166 -4.409111\n",
      "2   102.567013   97.750139   90.248237  0.011627 -4.454462\n",
      "3   103.625128  106.477012  100.653570  0.009669 -4.638834\n",
      "4    93.397832  124.390585   99.909753  0.007515 -4.890826\n",
      "5   100.315902   88.595430   83.586722  0.013546 -4.301641\n",
      "6   105.293277   96.298413   90.446954  0.012089 -4.415466\n",
      "7   128.728981   91.513656  100.590479  0.013984 -4.269837\n",
      "8    77.146121  112.260252  105.098873  0.006539 -5.030020\n",
      "9    99.356078   94.370314   92.141817  0.011426 -4.471845\n",
      "10  109.560314  110.863783   94.448817  0.010463 -4.559885\n",
      "11  100.168005  107.012129   99.581457  0.009400 -4.667069\n",
      "12   91.824919  104.089771   91.997382  0.009589 -4.647130\n",
      "13  100.640285  109.721896  107.438552  0.008537 -4.763315\n",
      "14  104.202813  101.297608   95.598136  0.010760 -4.531877\n",
      "15   97.706448  103.204793   81.757490  0.011580 -4.458505\n",
      "16   90.299470   91.815262  100.589074  0.009777 -4.627691\n",
      "17   92.623765  101.006012  105.671223  0.008678 -4.746967\n",
      "18  101.135859   94.808656   90.982377  0.011725 -4.446062\n",
      "19   99.615823   88.270316   98.592899  0.011446 -4.470082\n",
      "20   94.008101  102.727863  105.207311  0.008698 -4.744635\n"
     ]
    }
   ],
   "source": [
    "# seu código aqui\n",
    "df['log_med'] = np.log(df['media'])\n",
    "print(df)"
   ]
  }
 ],
 "metadata": {
  "kernelspec": {
   "display_name": "Python 3 (ipykernel)",
   "language": "python",
   "name": "python3"
  },
  "language_info": {
   "codemirror_mode": {
    "name": "ipython",
    "version": 3
   },
   "file_extension": ".py",
   "mimetype": "text/x-python",
   "name": "python",
   "nbconvert_exporter": "python",
   "pygments_lexer": "ipython3",
   "version": "3.12.4"
  }
 },
 "nbformat": 4,
 "nbformat_minor": 4
}
